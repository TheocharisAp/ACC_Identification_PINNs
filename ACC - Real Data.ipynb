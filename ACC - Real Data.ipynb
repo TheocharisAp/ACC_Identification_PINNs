{
 "cells": [
  {
   "cell_type": "code",
   "execution_count": 1,
   "id": "31b2c8bf",
   "metadata": {},
   "outputs": [],
   "source": [
    "import torch\n",
    "import torch.autograd as autograd         \n",
    "import torch.nn as nn                     \n",
    "import torch.optim as optim               \n",
    "import matplotlib.pyplot as plt\n",
    "import numpy as np\n",
    "import time\n",
    "import scipy as sp\n",
    "from scipy.integrate import odeint\n",
    "import pandas as pd\n",
    "\n",
    "torch.set_default_dtype(torch.double)\n",
    "torch.manual_seed(1234)\n",
    "np.random.seed(1234)"
   ]
  },
  {
   "cell_type": "markdown",
   "id": "ea1f5a82",
   "metadata": {},
   "source": [
    "# Deep Neural Network"
   ]
  },
  {
   "cell_type": "code",
   "execution_count": 2,
   "id": "203fe244",
   "metadata": {},
   "outputs": [],
   "source": [
    "class DNN(nn.Module):\n",
    "    def __init__(self, layers):\n",
    "        super().__init__()\n",
    "        self.activation = nn.Tanh()\n",
    "        self.linears = nn.ModuleList([nn.Linear(layers[i], layers[i + 1]) for i in range(len(layers) - 1)])\n",
    "\n",
    "        for i in range(len(layers) - 1):\n",
    "            nn.init.xavier_uniform_(self.linears[i].weight.data, gain=1.0)\n",
    "            nn.init.zeros_(self.linears[i].bias.data)\n",
    "\n",
    "    def forward(self, x):\n",
    "        for i in range(len(layers) - 2):\n",
    "            z = self.linears[i](x)\n",
    "            x = self.activation(z)\n",
    "\n",
    "        x = self.linears[-1](x)\n",
    "        return x"
   ]
  },
  {
   "cell_type": "markdown",
   "id": "72c7be12",
   "metadata": {},
   "source": [
    "# Physics-inspired Neural Network"
   ]
  },
  {
   "cell_type": "code",
   "execution_count": 3,
   "id": "778d7f1b",
   "metadata": {},
   "outputs": [],
   "source": [
    "class FCN():\n",
    "    def __init__(self, layers):\n",
    "        'Initialize iterator'\n",
    "        self.iter = 0\n",
    "        'Initialize parameters (Inverse problem)' \n",
    "        self.alpha = torch.tensor([alpha], requires_grad=True).double()\n",
    "        self.beta = torch.tensor([beta], requires_grad=True).double() \n",
    "        self.tau = torch.tensor([tau], requires_grad=True).double() \n",
    "        'Register parameters to optimize'\n",
    "        self.alpha = nn.Parameter(self.alpha)\n",
    "        self.beta = nn.Parameter(self.beta)\n",
    "        self.tau = nn.Parameter(self.tau)\n",
    "        'Call the DNN'\n",
    "        self.dnn = DNN(layers)\n",
    "        'Register parameters'\n",
    "        self.dnn.register_parameter('alpha', self.alpha)\n",
    "        self.dnn.register_parameter('beta', self.beta)\n",
    "        self.dnn.register_parameter('tau', self.tau)  \n",
    "        'Loss function'\n",
    "        self.loss_function = nn.MSELoss(reduction ='mean')\n",
    "        \n",
    "    def loss_initial(self,x,y):\n",
    "        loss_in = self.loss_function(self.dnn(x), y)\n",
    "        return loss_in\n",
    "            \n",
    "    def loss_data(self,x,y):\n",
    "        loss_u = self.loss_function(self.dnn(x), y) \n",
    "        return loss_u\n",
    "        \n",
    "    def loss_ODE(self, x):\n",
    "        alpha = self.alpha\n",
    "        beta = self.beta\n",
    "        tau = self.tau\n",
    "        \n",
    "        g = x.clone()           \n",
    "        g.requires_grad = True\n",
    "        \n",
    "        u = self.dnn(g) # u is the output of the network\n",
    "        v0 = u[:,0].view(-1, 1)\n",
    "        p1 = u[:,1].view(-1, 1)\n",
    "        v1 = u[:,2].view(-1, 1)\n",
    "\n",
    "        v0_dot = autograd.grad(u[:, 0], g, torch.ones_like(u[:, 0]), create_graph=True)[0]\n",
    "        p1_dot = autograd.grad(u[:, 1], g, torch.ones_like(u[:, 1]), create_graph=True)[0]\n",
    "        v1_dot = autograd.grad(u[:, 2], g, torch.ones_like(u[:, 2]), create_graph=True)[0]\n",
    "        \n",
    "        f_p1 = p1_dot - (v0 - v1)\n",
    "        f_v1 = v1_dot - alpha * (p1 - tau * v1) - beta * (v0 - v1)\n",
    "            \n",
    "        loss_f_p1 = self.loss_function(f_p1, f_hat)\n",
    "        loss_f_v1 = self.loss_function(f_v1, f_hat)\n",
    "        \n",
    "        return loss_f_p1 + loss_f_v1\n",
    "    \n",
    "    def loss(self,x0,y0,x,y):\n",
    "        loss_in = self.loss_initial(x0,y0)\n",
    "        loss_u = self.loss_data(x,y)\n",
    "        loss_f = self.loss_ODE(x)\n",
    "        loss_val = lambda1*loss_in + lambda2*loss_u + lambda3*loss_f\n",
    "        return loss_val"
   ]
  },
  {
   "cell_type": "markdown",
   "id": "d97b3ff3",
   "metadata": {},
   "source": [
    "## ODEs:\n",
    "\n",
    "\\begin{align*}\n",
    "\\dot{p}_{i}(t) &= v_{i-1}(t) - v_i(t) \\\\\n",
    "\\dot{v}_{i}(t) &= \\alpha_{i} [p_{i}(t) - \\tau_{i} v_{i}(t)] + \\beta_{i} [v_{i-1}(t) - v_i(t)]\n",
    "\\end{align*}"
   ]
  },
  {
   "cell_type": "markdown",
   "id": "f3c23e12",
   "metadata": {},
   "source": [
    "# Data"
   ]
  },
  {
   "cell_type": "code",
   "execution_count": 4,
   "id": "6f5514ed",
   "metadata": {},
   "outputs": [
    {
     "data": {
      "text/html": [
       "<div>\n",
       "<style scoped>\n",
       "    .dataframe tbody tr th:only-of-type {\n",
       "        vertical-align: middle;\n",
       "    }\n",
       "\n",
       "    .dataframe tbody tr th {\n",
       "        vertical-align: top;\n",
       "    }\n",
       "\n",
       "    .dataframe thead th {\n",
       "        text-align: right;\n",
       "    }\n",
       "</style>\n",
       "<table border=\"1\" class=\"dataframe\">\n",
       "  <thead>\n",
       "    <tr style=\"text-align: right;\">\n",
       "      <th></th>\n",
       "      <th>$t$</th>\n",
       "      <th>$v_0$</th>\n",
       "      <th>$p_1$</th>\n",
       "      <th>$v_1$</th>\n",
       "    </tr>\n",
       "  </thead>\n",
       "  <tbody>\n",
       "    <tr>\n",
       "      <th>0</th>\n",
       "      <td>0.0</td>\n",
       "      <td>21.207972</td>\n",
       "      <td>20.252550</td>\n",
       "      <td>21.308</td>\n",
       "    </tr>\n",
       "    <tr>\n",
       "      <th>1</th>\n",
       "      <td>0.1</td>\n",
       "      <td>21.228550</td>\n",
       "      <td>20.256435</td>\n",
       "      <td>21.314</td>\n",
       "    </tr>\n",
       "    <tr>\n",
       "      <th>2</th>\n",
       "      <td>0.2</td>\n",
       "      <td>21.292856</td>\n",
       "      <td>20.245869</td>\n",
       "      <td>21.395</td>\n",
       "    </tr>\n",
       "    <tr>\n",
       "      <th>3</th>\n",
       "      <td>0.3</td>\n",
       "      <td>21.342757</td>\n",
       "      <td>20.257832</td>\n",
       "      <td>21.274</td>\n",
       "    </tr>\n",
       "    <tr>\n",
       "      <th>4</th>\n",
       "      <td>0.4</td>\n",
       "      <td>21.392143</td>\n",
       "      <td>20.257023</td>\n",
       "      <td>21.308</td>\n",
       "    </tr>\n",
       "    <tr>\n",
       "      <th>...</th>\n",
       "      <td>...</td>\n",
       "      <td>...</td>\n",
       "      <td>...</td>\n",
       "      <td>...</td>\n",
       "    </tr>\n",
       "    <tr>\n",
       "      <th>2996</th>\n",
       "      <td>299.6</td>\n",
       "      <td>31.588947</td>\n",
       "      <td>34.382937</td>\n",
       "      <td>30.900</td>\n",
       "    </tr>\n",
       "    <tr>\n",
       "      <th>2997</th>\n",
       "      <td>299.7</td>\n",
       "      <td>31.559109</td>\n",
       "      <td>34.442483</td>\n",
       "      <td>30.845</td>\n",
       "    </tr>\n",
       "    <tr>\n",
       "      <th>2998</th>\n",
       "      <td>299.8</td>\n",
       "      <td>31.548820</td>\n",
       "      <td>34.512691</td>\n",
       "      <td>30.874</td>\n",
       "    </tr>\n",
       "    <tr>\n",
       "      <th>2999</th>\n",
       "      <td>299.9</td>\n",
       "      <td>31.553450</td>\n",
       "      <td>34.583341</td>\n",
       "      <td>30.853</td>\n",
       "    </tr>\n",
       "    <tr>\n",
       "      <th>3000</th>\n",
       "      <td>300.0</td>\n",
       "      <td>31.559623</td>\n",
       "      <td>34.661380</td>\n",
       "      <td>30.856</td>\n",
       "    </tr>\n",
       "  </tbody>\n",
       "</table>\n",
       "<p>3001 rows × 4 columns</p>\n",
       "</div>"
      ],
      "text/plain": [
       "0       $t$      $v_0$      $p_1$   $v_1$\n",
       "0       0.0  21.207972  20.252550  21.308\n",
       "1       0.1  21.228550  20.256435  21.314\n",
       "2       0.2  21.292856  20.245869  21.395\n",
       "3       0.3  21.342757  20.257832  21.274\n",
       "4       0.4  21.392143  20.257023  21.308\n",
       "...     ...        ...        ...     ...\n",
       "2996  299.6  31.588947  34.382937  30.900\n",
       "2997  299.7  31.559109  34.442483  30.845\n",
       "2998  299.8  31.548820  34.512691  30.874\n",
       "2999  299.9  31.553450  34.583341  30.853\n",
       "3000  300.0  31.559623  34.661380  30.856\n",
       "\n",
       "[3001 rows x 4 columns]"
      ]
     },
     "execution_count": 4,
     "metadata": {},
     "output_type": "execute_result"
    }
   ],
   "source": [
    "pd.set_option('display.max_columns', None)\n",
    "\n",
    "# Read the available data from Ispra-Casale\n",
    "Data = pd.read_csv('part7.csv', header=None, low_memory=False)\n",
    "\n",
    "# Data processing\n",
    "Data = Data.loc[5:, :].reset_index(drop=True)\n",
    "Data.columns = Data.iloc[0]\n",
    "Data = Data.iloc[1:].reset_index(drop=True)\n",
    "Data = Data.drop(columns={'Lat1', 'Lon1', 'E1', 'N1', 'Lat2', 'Lon2', 'E2', 'N2', 'U2', 'Driver2', 'Alt2'})\n",
    "Data = Data.astype('float64')\n",
    "Data.rename(columns = {'Time':'$t$', 'Speed1':'$v_0$', 'IVS1':'$p_1$', 'Speed2':'$v_1$'}, inplace = True)\n",
    "Data = Data.loc[:,['$t$','$v_0$','$p_1$', '$v_1$']]\n",
    "Data['$t$'] = Data['$t$'] - Data._get_value(0, '$t$')\n",
    "\n",
    "# Select time interval \n",
    "Time_interval = 300\n",
    "Data = Data.loc[:Time_interval*10, :]\n",
    "\n",
    "# Select the number of time points and their observations for the data loss\n",
    "Data_new = Data.loc[::1, :] # 3001 points\n",
    "Data_new = Data_new.reset_index(drop=True)\n",
    "Data_new"
   ]
  },
  {
   "cell_type": "code",
   "execution_count": 5,
   "id": "69e20a52",
   "metadata": {},
   "outputs": [],
   "source": [
    "# Save data in a numpy.ndarray \n",
    "X_true = Data_new['$t$'].to_numpy()\n",
    "U_true = Data_new[['$v_0$','$p_1$', '$v_1$']].to_numpy()\n",
    "\n",
    "# Total number of data points\n",
    "total_points = len(X_true)\n",
    "\n",
    "# Total number of collocation points\n",
    "N_f = len(X_true)\n",
    "\n",
    "# Obtain random points for the interior\n",
    "id_f = np.random.choice(total_points, N_f, replace=False)\n",
    "X_train_Nu = X_true[id_f]\n",
    "U_train_Nu = U_true[id_f]\n",
    "\n",
    "# Convert arrays to tensors\n",
    "X_train_Nu = torch.from_numpy(X_train_Nu).double() \n",
    "U_train_Nu = torch.from_numpy(U_train_Nu).double()\n",
    "\n",
    "X_true = torch.from_numpy(X_true).double()\n",
    "U_true = torch.from_numpy(U_true).double()\n",
    "\n",
    "f_hat = torch.zeros(X_train_Nu.shape[0], 1)\n",
    "\n",
    "X_train_Nu = X_train_Nu.view(-1, 1)\n",
    "X_true = X_true.view(-1, 1)"
   ]
  },
  {
   "cell_type": "markdown",
   "id": "f6eea5f5",
   "metadata": {},
   "source": [
    "# Training"
   ]
  },
  {
   "cell_type": "code",
   "execution_count": 6,
   "id": "b8cbc52f",
   "metadata": {},
   "outputs": [
    {
     "name": "stdout",
     "output_type": "stream",
     "text": [
      "i=0, Loss: 2385.0880486400592, [α, β, τ] = [1.00100, 0.99900, 0.99900]\n",
      "i=1000, Loss: 291.6100459454786, [α, β, τ] = [0.39071, 1.12357, 1.39202]\n",
      "i=2000, Loss: 268.36959820190555, [α, β, τ] = [0.00847, 0.90986, 1.51517]\n",
      "i=3000, Loss: 209.19022061746722, [α, β, τ] = [0.00562, 0.49700, 1.51604]\n",
      "i=4000, Loss: 110.62266520847177, [α, β, τ] = [0.00515, 0.26970, 1.51749]\n",
      "i=5000, Loss: 55.84089416605461, [α, β, τ] = [0.00481, 0.17390, 1.51147]\n",
      "i=6000, Loss: 16.676014918350077, [α, β, τ] = [0.00621, 0.13219, 1.51725]\n",
      "i=7000, Loss: 8.239185640111998, [α, β, τ] = [0.00727, 0.11047, 1.50533]\n",
      "i=8000, Loss: 3.507439775014898, [α, β, τ] = [0.00848, 0.09821, 1.48665]\n",
      "i=9000, Loss: 2.1241262228446254, [α, β, τ] = [0.00944, 0.08482, 1.49449]\n",
      "i=10000, Loss: 1.4015057406662375, [α, β, τ] = [0.00968, 0.08236, 1.49706]\n",
      "i=11000, Loss: 1.4501770401053544, [α, β, τ] = [0.00982, 0.07974, 1.50123]\n",
      "i=12000, Loss: 1.9952499327512911, [α, β, τ] = [0.01009, 0.07707, 1.50830]\n",
      "i=13000, Loss: 1.844911413389427, [α, β, τ] = [0.01013, 0.07466, 1.51197]\n",
      "i=14000, Loss: 1.5474559957002483, [α, β, τ] = [0.01019, 0.07426, 1.51439]\n",
      "i=15000, Loss: 1.0148689701618534, [α, β, τ] = [0.01023, 0.07372, 1.51670]\n",
      "i=16000, Loss: 1.4043665267065215, [α, β, τ] = [0.01028, 0.07346, 1.51898]\n",
      "i=17000, Loss: 4.3914916130727235, [α, β, τ] = [0.01032, 0.07317, 1.51904]\n",
      "i=18000, Loss: 2.3814275814207706, [α, β, τ] = [0.01023, 0.07369, 1.52137]\n",
      "i=19000, Loss: 0.6800763016442474, [α, β, τ] = [0.01026, 0.07248, 1.51884]\n",
      "i=20000, Loss: 2.073934074633233, [α, β, τ] = [0.01030, 0.07292, 1.52220]\n",
      "i=21000, Loss: 1.3499622143108085, [α, β, τ] = [0.01033, 0.07292, 1.52318]\n",
      "i=22000, Loss: 0.4353037077247628, [α, β, τ] = [0.01029, 0.07323, 1.52079]\n",
      "i=23000, Loss: 3.5803066546617393, [α, β, τ] = [0.01036, 0.07313, 1.52091]\n",
      "i=24000, Loss: 0.8222471234655342, [α, β, τ] = [0.01027, 0.07347, 1.52199]\n",
      "i=25000, Loss: 1.1116536177859762, [α, β, τ] = [0.01027, 0.07315, 1.52105]\n",
      "i=26000, Loss: 0.6648382787046742, [α, β, τ] = [0.01031, 0.07281, 1.52312]\n",
      "i=27000, Loss: 1.0816373600912312, [α, β, τ] = [0.01032, 0.07226, 1.52296]\n",
      "i=28000, Loss: 0.3792976425212653, [α, β, τ] = [0.01031, 0.07293, 1.52252]\n",
      "i=29000, Loss: 1.372106963454336, [α, β, τ] = [0.01037, 0.07267, 1.52281]\n",
      "i=30000, Loss: 0.6401054066181587, [α, β, τ] = [0.01033, 0.07308, 1.52224]\n",
      "i=31000, Loss: 1.2817148492191088, [α, β, τ] = [0.01033, 0.07275, 1.52264]\n",
      "i=32000, Loss: 1.5944143824501242, [α, β, τ] = [0.01028, 0.07274, 1.52148]\n",
      "i=33000, Loss: 0.1992639760453499, [α, β, τ] = [0.01033, 0.07237, 1.51976]\n",
      "i=34000, Loss: 1.296313292691002, [α, β, τ] = [0.01038, 0.07266, 1.52253]\n",
      "i=35000, Loss: 1.805252245643855, [α, β, τ] = [0.01037, 0.07254, 1.52132]\n",
      "i=36000, Loss: 0.9256732174676842, [α, β, τ] = [0.01034, 0.07203, 1.51935]\n",
      "i=37000, Loss: 0.19638891358751742, [α, β, τ] = [0.01031, 0.07279, 1.52077]\n",
      "i=38000, Loss: 1.2299464259207529, [α, β, τ] = [0.01037, 0.07224, 1.52290]\n",
      "i=39000, Loss: 1.2405343515850453, [α, β, τ] = [0.01034, 0.07273, 1.52219]\n",
      "i=40000, Loss: 2.0141244924019084, [α, β, τ] = [0.01027, 0.07253, 1.52013]\n",
      "i=41000, Loss: 0.853459191424801, [α, β, τ] = [0.01034, 0.07261, 1.52265]\n",
      "i=42000, Loss: 1.1882830921290384, [α, β, τ] = [0.01034, 0.07257, 1.52257]\n",
      "i=43000, Loss: 0.5213822364690281, [α, β, τ] = [0.01031, 0.07184, 1.51894]\n",
      "i=44000, Loss: 4.019794396923532, [α, β, τ] = [0.01025, 0.07224, 1.52060]\n",
      "i=45000, Loss: 3.1702598578798766, [α, β, τ] = [0.01038, 0.07251, 1.52011]\n",
      "i=46000, Loss: 1.8941559182538, [α, β, τ] = [0.01028, 0.07225, 1.52076]\n",
      "i=47000, Loss: 1.1253478861811448, [α, β, τ] = [0.01035, 0.07260, 1.52252]\n",
      "i=48000, Loss: 0.14769479483390596, [α, β, τ] = [0.01032, 0.07251, 1.51998]\n",
      "i=49000, Loss: 1.2874454916509117, [α, β, τ] = [0.01029, 0.07260, 1.52239]\n",
      "i=50000, Loss: 0.17006876921528663, [α, β, τ] = [0.01032, 0.07255, 1.52044]\n",
      "i=51000, Loss: 1.4375082705423, [α, β, τ] = [0.01036, 0.07252, 1.52173]\n",
      "i=52000, Loss: 1.1618826596197913, [α, β, τ] = [0.01032, 0.07228, 1.52273]\n",
      "i=53000, Loss: 0.3576962530410032, [α, β, τ] = [0.01034, 0.07272, 1.52233]\n",
      "i=54000, Loss: 0.15614699453564748, [α, β, τ] = [0.01032, 0.07235, 1.52023]\n",
      "i=55000, Loss: 0.2372757692817244, [α, β, τ] = [0.01032, 0.07252, 1.51957]\n",
      "i=56000, Loss: 1.4255042060586376, [α, β, τ] = [0.01036, 0.07269, 1.52089]\n",
      "i=57000, Loss: 1.1648167253566337, [α, β, τ] = [0.01031, 0.07254, 1.52299]\n",
      "i=58000, Loss: 0.19456313602566455, [α, β, τ] = [0.01033, 0.07271, 1.52211]\n",
      "i=59000, Loss: 0.3480705684947021, [α, β, τ] = [0.01034, 0.07247, 1.51936]\n",
      "i=60000, Loss: 0.5207750289451322, [α, β, τ] = [0.01031, 0.07249, 1.52007]\n",
      "Training time: 620.33 sec\n"
     ]
    }
   ],
   "source": [
    "# Initial parameter values\n",
    "alpha = 1.0 \n",
    "beta = 1.0 \n",
    "tau = 1.0 \n",
    "\n",
    "# Iterations \n",
    "iterations = 60001 \n",
    "# Learning rate\n",
    "lr = 1e-3 \n",
    "# Network architecture\n",
    "layers = np.array([1, 60, 60, 60, 3]) \n",
    "\n",
    "lambda1 = 1 # Initial condition\n",
    "lambda2 = 1 # Data\n",
    "lambda3 = 1 # ODEs\n",
    "\n",
    "PINN = FCN(layers)\n",
    "params = list(PINN.dnn.parameters())\n",
    "\n",
    "alpha_values = []\n",
    "beta_values = []\n",
    "tau_values = []\n",
    "loss_values = []\n",
    "\n",
    "# Adam Optimizer\n",
    "optimizer = torch.optim.Adam(params, lr=lr)\n",
    "start_time = time.time()\n",
    "\n",
    "# Training loop\n",
    "for i in range(iterations):\n",
    "    optimizer.zero_grad()\n",
    "    loss = PINN.loss(X_true[0], U_true[0], X_train_Nu, U_train_Nu)  \n",
    "    loss.backward()\n",
    "    optimizer.step()\n",
    "    \n",
    "    alpha_values.append(PINN.alpha.item())\n",
    "    beta_values.append(PINN.beta.item())\n",
    "    tau_values.append(PINN.tau.item())    \n",
    "    loss_values.append(loss.item())\n",
    "\n",
    "    if i % 1000 == 0:\n",
    "        print(f'i={i}, '\n",
    "              f'Loss: {loss.item()}, '\n",
    "              f'[α, β, τ] = '\n",
    "              f'[{PINN.alpha.item():.5f}, '\n",
    "              f'{PINN.beta.item():.5f}, '\n",
    "              f'{PINN.tau.item():.5f}]')\n",
    "\n",
    "elapsed = time.time() - start_time\n",
    "print('Training time: %.2f sec' % (elapsed))"
   ]
  },
  {
   "cell_type": "code",
   "execution_count": 7,
   "id": "755a4113",
   "metadata": {},
   "outputs": [],
   "source": [
    "PINN.dnn.eval()\n",
    "\n",
    "# Predictions for v0, p1, and v1\n",
    "u_pred = PINN.dnn(X_true)\n",
    "v0_pred = u_pred[:, 0].detach().numpy()\n",
    "p1_pred = u_pred[:, 1].detach().numpy()\n",
    "v1_pred = u_pred[:, 2].detach().numpy()"
   ]
  },
  {
   "cell_type": "code",
   "execution_count": 8,
   "id": "dbb7b756",
   "metadata": {},
   "outputs": [
    {
     "name": "stdout",
     "output_type": "stream",
     "text": [
      "MAE for v0:  0.17432748156155156\n",
      "MAE for p1:  0.5885693350290239\n",
      "MAE for v1:  0.1934839775780535\n"
     ]
    }
   ],
   "source": [
    "# Convert U_true to numpy\n",
    "if isinstance(U_true, torch.Tensor):\n",
    "    u_true = U_true.detach().numpy()\n",
    "\n",
    "# Mean absolute errors (MAEs)\n",
    "mae_v0 = np.mean(np.abs(u_true[:, 0] - v0_pred))\n",
    "mae_p1 = np.mean(np.abs(u_true[:, 1] - p1_pred))\n",
    "mae_v1 = np.mean(np.abs(u_true[:, 2] - v1_pred))\n",
    "\n",
    "print(\"MAE for v0: \", mae_v0)\n",
    "print(\"MAE for p1: \", mae_p1)\n",
    "print(\"MAE for v1: \", mae_v1)"
   ]
  },
  {
   "cell_type": "code",
   "execution_count": 9,
   "id": "032d4a93",
   "metadata": {},
   "outputs": [
    {
     "data": {
      "image/png": "[encoded data removed]",
      "text/plain": [
       "<Figure size 864x288 with 1 Axes>"
      ]
     },
     "metadata": {
      "needs_background": "light"
     },
     "output_type": "display_data"
    }
   ],
   "source": [
    "plt.rcParams.update({\n",
    "    'font.family': 'Arial',\n",
    "    'font.size': 20, \n",
    "    'axes.linewidth': 1, \n",
    "    'xtick.major.size': 4, \n",
    "    'xtick.major.width': 1, \n",
    "    'ytick.major.size': 4, \n",
    "    'ytick.major.width': 1\n",
    "})\n",
    "\n",
    "plt.figure(figsize=(12, 4))\n",
    "plt.plot(X_true, u_true[:,1], linewidth=3, color='gray', label='$p_{1}$')\n",
    "plt.plot(X_true, p1_pred,  '--', linewidth=3, color='black', label='$\\hat{p}_{1}}$')\n",
    "plt.xlim([0, 300])\n",
    "plt.ylim([0, 150])\n",
    "plt.xlabel(\"Time (s)\")\n",
    "plt.ylabel(\"Space-gap (m)\")\n",
    "plt.legend(\n",
    "    fontsize='small', \n",
    "    fancybox=False,   \n",
    "    framealpha=1,   \n",
    "    shadow=False,    \n",
    "    edgecolor='black', \n",
    "    borderpad=0.3,    \n",
    "    loc='upper right' \n",
    ")\n",
    "plt.show()"
   ]
  },
  {
   "cell_type": "code",
   "execution_count": 10,
   "id": "dd93d2cd",
   "metadata": {},
   "outputs": [
    {
     "data": {
      "image/png": "[encoded data removed]",
      "text/plain": [
       "<Figure size 864x288 with 1 Axes>"
      ]
     },
     "metadata": {
      "needs_background": "light"
     },
     "output_type": "display_data"
    }
   ],
   "source": [
    "plt.figure(figsize=(12, 4))\n",
    "plt.plot(X_true, u_true[:,0], linewidth=3, color=\"#ff7f0e\", label='$υ_{0}}$')\n",
    "plt.plot(X_true, v0_pred,  '--', linewidth=3, color = \"#1f77b4\", label='$\\hat{υ}_{0}$')\n",
    "plt.plot(X_true, u_true[:,2], linewidth=3, color=\"gray\", label='$υ_{1}$')\n",
    "plt.plot(X_true, v1_pred,  '--', linewidth=3, color = \"black\", label='$\\hat{υ}_{1}$')\n",
    "plt.xlim([0, 300])\n",
    "plt.ylim([10, 50])\n",
    "plt.xlabel(\"Time (s)\")\n",
    "plt.ylabel(\"Velocity (m/s)\")\n",
    "plt.legend(\n",
    "    fontsize='small', \n",
    "    fancybox=False,   \n",
    "    framealpha=1,   \n",
    "    shadow=False,    \n",
    "    edgecolor='black', \n",
    "    borderpad=0.3,    \n",
    "    loc='upper right' \n",
    ")\n",
    "plt.show()"
   ]
  },
  {
   "cell_type": "code",
   "execution_count": 11,
   "id": "75bf57a0",
   "metadata": {},
   "outputs": [
    {
     "data": {
      "image/png": "[encoded data removed]",
      "text/plain": [
       "<Figure size 360x360 with 1 Axes>"
      ]
     },
     "metadata": {
      "needs_background": "light"
     },
     "output_type": "display_data"
    }
   ],
   "source": [
    "plt.figure(figsize=(5, 5))\n",
    "plt.plot(alpha_values, label=r\"$\\hat{\\alpha}$\", linewidth=3, color = 'gray')\n",
    "plt.plot(beta_values, label=r\"$\\hat{\\beta}$\", linewidth=3, color = 'black')\n",
    "plt.plot(tau_values, label=r\"$\\hat{\\tau}$\", linewidth=3, color = \"#1f77b4\")\n",
    "plt.xlim([0, iterations-1])\n",
    "plt.ylim([0, 2])\n",
    "plt.xticks([0, 20000, 40000, 60000], ['0', '2', '4', '6'])\n",
    "plt.ylabel(\"Parameters\")\n",
    "plt.xlabel(\"# Iterations ($10^4$)\")\n",
    "plt.legend(\n",
    "    fontsize='small', \n",
    "    fancybox=False,   \n",
    "    framealpha=1,   \n",
    "    shadow=False,    \n",
    "    edgecolor='black', \n",
    "    borderpad=0.3,    \n",
    "    loc='upper right' \n",
    ")\n",
    "plt.show()"
   ]
  },
  {
   "cell_type": "code",
   "execution_count": 12,
   "id": "66267454",
   "metadata": {},
   "outputs": [
    {
     "name": "stdout",
     "output_type": "stream",
     "text": [
      "α =  0.010305783308570484\n",
      "β =  0.07248544367621532\n",
      "τ =  1.5200721464368074\n"
     ]
    }
   ],
   "source": [
    "print('α = ', alpha_values[-1])\n",
    "print('β = ', beta_values[-1])\n",
    "print('τ = ', tau_values[-1])"
   ]
  },
  {
   "cell_type": "code",
   "execution_count": 13,
   "id": "955a054b",
   "metadata": {},
   "outputs": [
    {
     "name": "stdout",
     "output_type": "stream",
     "text": [
      "L_2 norm = -0.018095111269554907\n",
      "L_inf norm = -0.03345253834175809\n"
     ]
    }
   ],
   "source": [
    "# Calculate L2 and Linf norms (String stability conditions)\n",
    "def L2_norm(α, β, τ):\n",
    "    l2 = α**2 * τ**2 + 2 * α * β * τ - 2 * α\n",
    "    return l2\n",
    "\n",
    "def Linf_norm(α, β, τ):\n",
    "    linf = (α * τ + β)**2 - 4 * α\n",
    "    return linf\n",
    "\n",
    "print('L_2 norm =', L2_norm(alpha_values[-1], beta_values[-1], tau_values[-1]))\n",
    "print('L_inf norm =', Linf_norm(alpha_values[-1], beta_values[-1], tau_values[-1]))"
   ]
  }
 ],
 "metadata": {
  "kernelspec": {
   "display_name": "Python 3 (ipykernel)",
   "language": "python",
   "name": "python3"
  },
  "language_info": {
   "codemirror_mode": {
    "name": "ipython",
    "version": 3
   },
   "file_extension": ".py",
   "mimetype": "text/x-python",
   "name": "python",
   "nbconvert_exporter": "python",
   "pygments_lexer": "ipython3",
   "version": "3.9.7"
  }
 },
 "nbformat": 4,
 "nbformat_minor": 5
}
